{
 "cells": [
  {
   "cell_type": "code",
   "execution_count": 3,
   "source": [
    "from random import randint\n",
    "\n",
    "def gencoordinates(m, n1,n2):\n",
    "    seen = set()\n",
    "\n",
    "    x, y = randint(m, n1), randint(m, n2)\n",
    "\n",
    "    while True:\n",
    "        seen.add((x, y))\n",
    "        yield (x, y)\n",
    "        x, y = randint(m, n1), randint(m, n2)\n",
    "        while (x, y) in seen:\n",
    "            x, y = randint(m, n1), randint(m, n2)"
   ],
   "outputs": [],
   "metadata": {}
  },
  {
   "cell_type": "code",
   "execution_count": 29,
   "source": [
    "nsubtlety, nstatpos, ncolor = 6,2,2 # recollapses with have same start position\n",
    "variants = 3\n",
    "nrequired_vids = nsubtlety*nstatpos * ncolor *variants\n",
    "nrequired_vids"
   ],
   "outputs": [
    {
     "output_type": "execute_result",
     "data": {
      "text/plain": [
       "72"
      ]
     },
     "metadata": {},
     "execution_count": 29
    }
   ],
   "metadata": {}
  },
  {
   "cell_type": "markdown",
   "source": [
    "loop order: subtlety variations, initpos variations, color variations"
   ],
   "metadata": {}
  },
  {
   "cell_type": "code",
   "execution_count": 30,
   "source": [
    "world = [1200,900]\n",
    "g = gencoordinates(0, world[0],world[1])\n",
    "coords = []\n",
    "for i in range(nrequired_vids):\n",
    "    coords.append(next(g))"
   ],
   "outputs": [],
   "metadata": {}
  },
  {
   "cell_type": "code",
   "execution_count": 33,
   "source": [
    "coords_array = np.array(coords)"
   ],
   "outputs": [
    {
     "output_type": "execute_result",
     "data": {
      "text/plain": [
       "546.1666666666666"
      ]
     },
     "metadata": {},
     "execution_count": 33
    }
   ],
   "metadata": {}
  },
  {
   "cell_type": "code",
   "execution_count": 39,
   "source": [
    "import numpy as np\n",
    "import matplotlib.pyplot as plt\n",
    "\n",
    "\n",
    "plt.figure(1,figsize=(10,8))\n",
    "for subt in range(6):\n",
    "    plt.subplot(3,3,subt+1)\n",
    "    rows = np.arange((subt-1)*12,subt*12)\n",
    "    plt.plot(coords_array[rows,1],coords_array[rows,0], ls = 'None',marker = 'o')\n",
    "    plt.plot(coords_array[rows,1].mean(),coords_array[rows,0].mean(),color='r',marker = '+')\n",
    "plt.tight_layout()"
   ],
   "outputs": [
    {
     "output_type": "display_data",
     "data": {
      "image/png": "[encoded data removed]",
      "text/plain": [
       "<Figure size 720x576 with 6 Axes>"
      ]
     },
     "metadata": {
      "needs_background": "light"
     }
    }
   ],
   "metadata": {}
  },
  {
   "cell_type": "code",
   "execution_count": 40,
   "source": [
    "#import csv\n",
    "import json\n",
    "\n",
    "data = {}\n",
    "data['x'] = list(coords_array[:,0])\n",
    "data['x'] = [int(i) for i in data['x']]\n",
    "data['y'] = list(coords_array[:,1])\n",
    "data['y'] = [int(i) for i in data['y']]\n",
    "\n",
    "json_data = json.dumps(data)\n",
    "print(json_data)"
   ],
   "outputs": [
    {
     "output_type": "stream",
     "name": "stdout",
     "text": [
      "{\"x\": [889, 399, 832, 947, 1036, 575, 814, 511, 184, 367, 12, 465, 903, 1034, 945, 1104, 67, 1006, 615, 668, 1163, 1149, 136, 1055, 725, 475, 803, 785, 135, 1146, 301, 1132, 344, 108, 1154, 579, 789, 584, 1044, 499, 675, 68, 76, 93, 443, 8, 308, 1022, 1066, 1091, 329, 1, 165, 665, 1077, 197, 543, 120, 929, 371, 145, 486, 724, 703, 238, 724, 607, 1120, 526, 917, 838, 125], \"y\": [550, 833, 263, 50, 194, 320, 690, 870, 898, 815, 289, 161, 173, 35, 295, 85, 293, 839, 545, 106, 207, 594, 244, 886, 592, 353, 594, 237, 870, 167, 839, 228, 53, 817, 127, 887, 657, 617, 58, 391, 143, 475, 359, 635, 469, 51, 467, 608, 546, 791, 715, 376, 238, 192, 810, 562, 462, 254, 508, 589, 686, 821, 786, 844, 502, 602, 256, 254, 723, 658, 535, 440]}\n"
     ]
    }
   ],
   "metadata": {}
  },
  {
   "cell_type": "code",
   "execution_count": 45,
   "source": [
    "len(data['x'])"
   ],
   "outputs": [
    {
     "output_type": "execute_result",
     "data": {
      "text/plain": [
       "72"
      ]
     },
     "metadata": {},
     "execution_count": 45
    }
   ],
   "metadata": {}
  },
  {
   "cell_type": "code",
   "execution_count": 46,
   "source": [
    "with open('mimic_start_position.json', 'w') as outfile:\n",
    "    json.dump(json_data, outfile)"
   ],
   "outputs": [],
   "metadata": {}
  },
  {
   "cell_type": "code",
   "execution_count": 22,
   "source": [
    "x = iter({'a','b','c'})\n",
    "print(next(x))"
   ],
   "outputs": [
    {
     "output_type": "stream",
     "name": "stdout",
     "text": [
      "c\n"
     ]
    }
   ],
   "metadata": {}
  },
  {
   "cell_type": "code",
   "execution_count": null,
   "source": [
    "import csv\n",
    "with open('mimic_start_position.csv','w') as out:\n",
    "    csv_out=csv.writer(out)\n",
    "    csv_out.writerow(['x','y'])\n",
    "    for row in coords:\n",
    "        csv_out.writerow(row)"
   ],
   "outputs": [],
   "metadata": {}
  }
 ],
 "metadata": {
  "orig_nbformat": 4,
  "language_info": {
   "name": "python",
   "version": "3.7.11",
   "mimetype": "text/x-python",
   "codemirror_mode": {
    "name": "ipython",
    "version": 3
   },
   "pygments_lexer": "ipython3",
   "nbconvert_exporter": "python",
   "file_extension": ".py"
  },
  "kernelspec": {
   "name": "python3",
   "display_name": "Python 3.7.11 64-bit ('py37': conda)"
  },
  "interpreter": {
   "hash": "30fd9c97283ec1278eec212a8f8afab06ad903f38228c32cacb469eba8e56f4f"
  }
 },
 "nbformat": 4,
 "nbformat_minor": 2
}