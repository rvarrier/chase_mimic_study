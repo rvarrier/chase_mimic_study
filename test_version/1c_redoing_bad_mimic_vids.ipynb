{
 "cells": [
  {
   "cell_type": "code",
   "execution_count": 1,
   "source": [
    "bad_vid_IDs = {}\n",
    "bad_vid_IDs['black'] = [2,3,4,6,7,9,10,14,17,18,20,21,23,24,29,35,36]\n",
    "bad_vid_IDs['black'] = [i-1 for i in bad_vid_IDs['black']]\n",
    "bad_vid_IDs['grey'] = [37,40,42,43,44,55,57,62,63,65,68,71]\n"
   ],
   "outputs": [],
   "metadata": {}
  },
  {
   "cell_type": "code",
   "execution_count": 2,
   "source": [
    "len(bad_vid_IDs['black']),len(bad_vid_IDs['grey']), len(bad_vid_IDs['black'])+len(bad_vid_IDs['grey'])"
   ],
   "outputs": [
    {
     "output_type": "execute_result",
     "data": {
      "text/plain": [
       "(17, 12, 29)"
      ]
     },
     "metadata": {},
     "execution_count": 2
    }
   ],
   "metadata": {}
  },
  {
   "cell_type": "code",
   "execution_count": 3,
   "source": [
    "180/6"
   ],
   "outputs": [
    {
     "output_type": "execute_result",
     "data": {
      "text/plain": [
       "30.0"
      ]
     },
     "metadata": {},
     "execution_count": 3
    }
   ],
   "metadata": {}
  },
  {
   "cell_type": "code",
   "execution_count": 4,
   "source": [
    "78/3"
   ],
   "outputs": [
    {
     "output_type": "execute_result",
     "data": {
      "text/plain": [
       "26.0"
      ]
     },
     "metadata": {},
     "execution_count": 4
    }
   ],
   "metadata": {}
  },
  {
   "cell_type": "code",
   "execution_count": 7,
   "source": [
    "29/72"
   ],
   "outputs": [
    {
     "output_type": "execute_result",
     "data": {
      "text/plain": [
       "0.4027777777777778"
      ]
     },
     "metadata": {},
     "execution_count": 7
    }
   ],
   "metadata": {}
  },
  {
   "cell_type": "code",
   "execution_count": 8,
   "source": [
    "pwd"
   ],
   "outputs": [
    {
     "output_type": "execute_result",
     "data": {
      "text/plain": [
       "'/Users/f0053cz/Documents/GitHub/chase_mimic_study/test_version'"
      ]
     },
     "metadata": {},
     "execution_count": 8
    }
   ],
   "metadata": {}
  },
  {
   "cell_type": "code",
   "execution_count": 10,
   "source": [
    "import json\n",
    "json_data = json.dumps(bad_vid_IDs)\n",
    "print(json_data)\n",
    "with open('bad_MIMIC_inds.json', 'w') as outfile:\n",
    "    json.dump(json_data, outfile)"
   ],
   "outputs": [
    {
     "output_type": "stream",
     "name": "stdout",
     "text": [
      "{\"black\": [1, 2, 3, 5, 6, 8, 9, 13, 16, 17, 19, 20, 22, 23, 28, 34, 35], \"grey\": [37, 40, 42, 43, 44, 55, 57, 62, 63, 65, 68, 71]}\n"
     ]
    }
   ],
   "metadata": {}
  },
  {
   "cell_type": "code",
   "execution_count": 11,
   "source": [
    "ls"
   ],
   "outputs": [
    {
     "output_type": "stream",
     "name": "stdout",
     "text": [
      "1_create_random_start_positions.ipynb   base_stim_mimic_predBlack.psyn\n",
      "1b_readin_random_start_positions.ipynb  base_stim_mimic_predGrey.psyn\n",
      "1c_redoing_bad_mimic_vids.ipynb         base_stim_wander_predBlack.psyn\n",
      "2a_export_CHASE_predBlack.js            base_stim_wander_predGrey.psyn\n",
      "2a_export_MIMIC_predBlack.js            \u001b[34mextra\u001b[m\u001b[m/\n",
      "2a_export_WANDER_predBlack.js           mimic_start_position.csv\n",
      "2b_export_CHASE_predGrey.js             mimic_start_position.json\n",
      "2b_export_MIMIC_predGrey.js             test.js\n",
      "2b_export_WANDER_predGrey.js            \u001b[34mtest_export\u001b[m\u001b[m/\n",
      "bad_MIMIC_inds.json                     \u001b[34mtest_gui\u001b[m\u001b[m/\n",
      "base_stim_chase_predBlack.psyn          test_loop.js\n",
      "base_stim_chase_predGrey.psyn           \u001b[34mvids\u001b[m\u001b[m/\n",
      "base_stim_mimic.psyn\n"
     ]
    }
   ],
   "metadata": {}
  },
  {
   "cell_type": "code",
   "execution_count": null,
   "source": [],
   "outputs": [],
   "metadata": {}
  }
 ],
 "metadata": {
  "orig_nbformat": 4,
  "language_info": {
   "name": "python",
   "version": "3.7.11",
   "mimetype": "text/x-python",
   "codemirror_mode": {
    "name": "ipython",
    "version": 3
   },
   "pygments_lexer": "ipython3",
   "nbconvert_exporter": "python",
   "file_extension": ".py"
  },
  "kernelspec": {
   "name": "python3",
   "display_name": "Python 3.7.11 64-bit ('py37': conda)"
  },
  "interpreter": {
   "hash": "30fd9c97283ec1278eec212a8f8afab06ad903f38228c32cacb469eba8e56f4f"
  }
 },
 "nbformat": 4,
 "nbformat_minor": 2
}